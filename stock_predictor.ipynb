{
  "nbformat": 4,
  "nbformat_minor": 0,
  "metadata": {
    "colab": {
      "provenance": []
    },
    "kernelspec": {
      "name": "python3",
      "display_name": "Python 3"
    },
    "language_info": {
      "name": "python"
    }
  },
  "cells": [
    {
      "cell_type": "markdown",
      "source": [
        "Import Libraries and Dataset"
      ],
      "metadata": {
        "id": "g9vgxV8f41W3"
      }
    },
    {
      "cell_type": "markdown",
      "source": [
        "# New Section"
      ],
      "metadata": {
        "id": "_LpKbt2gOMUc"
      }
    },
    {
      "cell_type": "code",
      "execution_count": null,
      "metadata": {
        "id": "XsUNd0stsdUW"
      },
      "outputs": [],
      "source": [
        "import numpy as np\n",
        "import pandas as pd\n",
        "import matplotlib.pyplot as plt\n",
        "import seaborn as sns\n",
        "from sklearn.model_selection import train_test_split\n",
        "from sklearn.metrics import r2_score\n",
        "import warnings\n",
        "warnings.filterwarnings('ignore')\n",
        "sns.set_style('darkgrid')"
      ]
    },
    {
      "cell_type": "code",
      "source": [
        "dataset = pd.read_csv('ICICIBANK.csv')"
      ],
      "metadata": {
        "id": "9pk3H8ETs-Ls"
      },
      "execution_count": null,
      "outputs": []
    },
    {
      "cell_type": "markdown",
      "source": [
        "Information about the dataset"
      ],
      "metadata": {
        "id": "7j6pJKFP4-pT"
      }
    },
    {
      "cell_type": "code",
      "source": [
        "dataset.shape\n"
      ],
      "metadata": {
        "colab": {
          "base_uri": "https://localhost:8080/"
        },
        "id": "eNTMn4u_wcTJ",
        "outputId": "5a78530f-bfd2-4d89-ee97-369e2889c4af"
      },
      "execution_count": null,
      "outputs": [
        {
          "output_type": "execute_result",
          "data": {
            "text/plain": [
              "(5204, 15)"
            ]
          },
          "metadata": {},
          "execution_count": 3
        }
      ]
    },
    {
      "cell_type": "code",
      "source": [
        "dataset.columns\n"
      ],
      "metadata": {
        "colab": {
          "base_uri": "https://localhost:8080/"
        },
        "id": "Htvi7zc6xe-O",
        "outputId": "29b674e3-9bad-406f-fd08-64a106ee51ed"
      },
      "execution_count": null,
      "outputs": [
        {
          "output_type": "execute_result",
          "data": {
            "text/plain": [
              "Index(['Date', 'Symbol', 'Series', 'Prev Close', 'Open', 'High', 'Low', 'Last',\n",
              "       'Close', 'VWAP', 'Volume', 'Turnover', 'Trades', 'Deliverable Volume',\n",
              "       '%Deliverble'],\n",
              "      dtype='object')"
            ]
          },
          "metadata": {},
          "execution_count": 4
        }
      ]
    },
    {
      "cell_type": "code",
      "source": [
        "dataset.info()"
      ],
      "metadata": {
        "colab": {
          "base_uri": "https://localhost:8080/"
        },
        "id": "NWcD_RxZxfCL",
        "outputId": "18675529-248a-4408-85d7-34f67bb21ebc"
      },
      "execution_count": null,
      "outputs": [
        {
          "output_type": "stream",
          "name": "stdout",
          "text": [
            "<class 'pandas.core.frame.DataFrame'>\n",
            "RangeIndex: 5204 entries, 0 to 5203\n",
            "Data columns (total 15 columns):\n",
            " #   Column              Non-Null Count  Dtype  \n",
            "---  ------              --------------  -----  \n",
            " 0   Date                5204 non-null   object \n",
            " 1   Symbol              5204 non-null   object \n",
            " 2   Series              5204 non-null   object \n",
            " 3   Prev Close          5204 non-null   float64\n",
            " 4   Open                5204 non-null   float64\n",
            " 5   High                5204 non-null   float64\n",
            " 6   Low                 5204 non-null   float64\n",
            " 7   Last                5204 non-null   float64\n",
            " 8   Close               5204 non-null   float64\n",
            " 9   VWAP                5204 non-null   float64\n",
            " 10  Volume              5204 non-null   int64  \n",
            " 11  Turnover            5204 non-null   float64\n",
            " 12  Trades              2354 non-null   float64\n",
            " 13  Deliverable Volume  4687 non-null   float64\n",
            " 14  %Deliverble         4687 non-null   float64\n",
            "dtypes: float64(11), int64(1), object(3)\n",
            "memory usage: 610.0+ KB\n"
          ]
        }
      ]
    },
    {
      "cell_type": "code",
      "source": [
        "dataset.describe()"
      ],
      "metadata": {
        "colab": {
          "base_uri": "https://localhost:8080/",
          "height": 300
        },
        "id": "CaOeZKtVxfQu",
        "outputId": "c1aa97dd-589a-48eb-bdde-aaf020ae64d3"
      },
      "execution_count": null,
      "outputs": [
        {
          "output_type": "execute_result",
          "data": {
            "text/plain": [
              "        Prev Close         Open         High          Low         Last  \\\n",
              "count  5204.000000  5204.000000  5204.000000  5204.000000  5204.000000   \n",
              "mean    550.536261   551.194744   560.218303   541.143390   550.672608   \n",
              "std     372.314033   372.423267   377.662056   366.869006   372.235819   \n",
              "min      67.400000    67.000000    70.450000    66.000000    67.000000   \n",
              "25%     265.800000   265.975000   269.800000   262.050000   265.800000   \n",
              "50%     392.050000   392.125000   399.000000   385.275000   392.500000   \n",
              "75%     878.462500   880.150000   892.000000   864.075000   878.200000   \n",
              "max    1794.100000  1767.050000  1798.150000  1760.150000  1793.000000   \n",
              "\n",
              "             Close         VWAP        Volume      Turnover         Trades  \\\n",
              "count  5204.000000  5204.000000  5.204000e+03  5.204000e+03    2354.000000   \n",
              "mean    550.613922   550.767542  7.889814e+06  3.549615e+14  132823.264231   \n",
              "std     372.255758   372.278713  1.200192e+07  4.499403e+14   95803.933033   \n",
              "min      67.400000    68.520000  7.409000e+03  9.617283e+10    2595.000000   \n",
              "25%     265.912500   265.922500  9.332090e+05  3.297766e+13   78440.500000   \n",
              "50%     392.075000   392.135000  3.363532e+06  2.863644e+14  107452.500000   \n",
              "75%     878.462500   877.732500  1.073832e+07  4.828040e+14  152706.000000   \n",
              "max    1794.100000  1783.460000  2.868577e+08  1.461959e+16  949891.000000   \n",
              "\n",
              "       Deliverable Volume  %Deliverble  \n",
              "count        4.687000e+03  4687.000000  \n",
              "mean         4.044934e+06     0.474588  \n",
              "std          6.344515e+06     0.132343  \n",
              "min          1.501500e+04     0.099000  \n",
              "25%          6.758135e+05     0.384950  \n",
              "50%          1.902303e+06     0.477600  \n",
              "75%          5.505945e+06     0.566250  \n",
              "max          2.325307e+08     0.983000  "
            ],
            "text/html": [
              "\n",
              "  <div id=\"df-d6315b98-b32d-418c-8392-bb2fa33c5acb\">\n",
              "    <div class=\"colab-df-container\">\n",
              "      <div>\n",
              "<style scoped>\n",
              "    .dataframe tbody tr th:only-of-type {\n",
              "        vertical-align: middle;\n",
              "    }\n",
              "\n",
              "    .dataframe tbody tr th {\n",
              "        vertical-align: top;\n",
              "    }\n",
              "\n",
              "    .dataframe thead th {\n",
              "        text-align: right;\n",
              "    }\n",
              "</style>\n",
              "<table border=\"1\" class=\"dataframe\">\n",
              "  <thead>\n",
              "    <tr style=\"text-align: right;\">\n",
              "      <th></th>\n",
              "      <th>Prev Close</th>\n",
              "      <th>Open</th>\n",
              "      <th>High</th>\n",
              "      <th>Low</th>\n",
              "      <th>Last</th>\n",
              "      <th>Close</th>\n",
              "      <th>VWAP</th>\n",
              "      <th>Volume</th>\n",
              "      <th>Turnover</th>\n",
              "      <th>Trades</th>\n",
              "      <th>Deliverable Volume</th>\n",
              "      <th>%Deliverble</th>\n",
              "    </tr>\n",
              "  </thead>\n",
              "  <tbody>\n",
              "    <tr>\n",
              "      <th>count</th>\n",
              "      <td>5204.000000</td>\n",
              "      <td>5204.000000</td>\n",
              "      <td>5204.000000</td>\n",
              "      <td>5204.000000</td>\n",
              "      <td>5204.000000</td>\n",
              "      <td>5204.000000</td>\n",
              "      <td>5204.000000</td>\n",
              "      <td>5.204000e+03</td>\n",
              "      <td>5.204000e+03</td>\n",
              "      <td>2354.000000</td>\n",
              "      <td>4.687000e+03</td>\n",
              "      <td>4687.000000</td>\n",
              "    </tr>\n",
              "    <tr>\n",
              "      <th>mean</th>\n",
              "      <td>550.536261</td>\n",
              "      <td>551.194744</td>\n",
              "      <td>560.218303</td>\n",
              "      <td>541.143390</td>\n",
              "      <td>550.672608</td>\n",
              "      <td>550.613922</td>\n",
              "      <td>550.767542</td>\n",
              "      <td>7.889814e+06</td>\n",
              "      <td>3.549615e+14</td>\n",
              "      <td>132823.264231</td>\n",
              "      <td>4.044934e+06</td>\n",
              "      <td>0.474588</td>\n",
              "    </tr>\n",
              "    <tr>\n",
              "      <th>std</th>\n",
              "      <td>372.314033</td>\n",
              "      <td>372.423267</td>\n",
              "      <td>377.662056</td>\n",
              "      <td>366.869006</td>\n",
              "      <td>372.235819</td>\n",
              "      <td>372.255758</td>\n",
              "      <td>372.278713</td>\n",
              "      <td>1.200192e+07</td>\n",
              "      <td>4.499403e+14</td>\n",
              "      <td>95803.933033</td>\n",
              "      <td>6.344515e+06</td>\n",
              "      <td>0.132343</td>\n",
              "    </tr>\n",
              "    <tr>\n",
              "      <th>min</th>\n",
              "      <td>67.400000</td>\n",
              "      <td>67.000000</td>\n",
              "      <td>70.450000</td>\n",
              "      <td>66.000000</td>\n",
              "      <td>67.000000</td>\n",
              "      <td>67.400000</td>\n",
              "      <td>68.520000</td>\n",
              "      <td>7.409000e+03</td>\n",
              "      <td>9.617283e+10</td>\n",
              "      <td>2595.000000</td>\n",
              "      <td>1.501500e+04</td>\n",
              "      <td>0.099000</td>\n",
              "    </tr>\n",
              "    <tr>\n",
              "      <th>25%</th>\n",
              "      <td>265.800000</td>\n",
              "      <td>265.975000</td>\n",
              "      <td>269.800000</td>\n",
              "      <td>262.050000</td>\n",
              "      <td>265.800000</td>\n",
              "      <td>265.912500</td>\n",
              "      <td>265.922500</td>\n",
              "      <td>9.332090e+05</td>\n",
              "      <td>3.297766e+13</td>\n",
              "      <td>78440.500000</td>\n",
              "      <td>6.758135e+05</td>\n",
              "      <td>0.384950</td>\n",
              "    </tr>\n",
              "    <tr>\n",
              "      <th>50%</th>\n",
              "      <td>392.050000</td>\n",
              "      <td>392.125000</td>\n",
              "      <td>399.000000</td>\n",
              "      <td>385.275000</td>\n",
              "      <td>392.500000</td>\n",
              "      <td>392.075000</td>\n",
              "      <td>392.135000</td>\n",
              "      <td>3.363532e+06</td>\n",
              "      <td>2.863644e+14</td>\n",
              "      <td>107452.500000</td>\n",
              "      <td>1.902303e+06</td>\n",
              "      <td>0.477600</td>\n",
              "    </tr>\n",
              "    <tr>\n",
              "      <th>75%</th>\n",
              "      <td>878.462500</td>\n",
              "      <td>880.150000</td>\n",
              "      <td>892.000000</td>\n",
              "      <td>864.075000</td>\n",
              "      <td>878.200000</td>\n",
              "      <td>878.462500</td>\n",
              "      <td>877.732500</td>\n",
              "      <td>1.073832e+07</td>\n",
              "      <td>4.828040e+14</td>\n",
              "      <td>152706.000000</td>\n",
              "      <td>5.505945e+06</td>\n",
              "      <td>0.566250</td>\n",
              "    </tr>\n",
              "    <tr>\n",
              "      <th>max</th>\n",
              "      <td>1794.100000</td>\n",
              "      <td>1767.050000</td>\n",
              "      <td>1798.150000</td>\n",
              "      <td>1760.150000</td>\n",
              "      <td>1793.000000</td>\n",
              "      <td>1794.100000</td>\n",
              "      <td>1783.460000</td>\n",
              "      <td>2.868577e+08</td>\n",
              "      <td>1.461959e+16</td>\n",
              "      <td>949891.000000</td>\n",
              "      <td>2.325307e+08</td>\n",
              "      <td>0.983000</td>\n",
              "    </tr>\n",
              "  </tbody>\n",
              "</table>\n",
              "</div>\n",
              "      <button class=\"colab-df-convert\" onclick=\"convertToInteractive('df-d6315b98-b32d-418c-8392-bb2fa33c5acb')\"\n",
              "              title=\"Convert this dataframe to an interactive table.\"\n",
              "              style=\"display:none;\">\n",
              "        \n",
              "  <svg xmlns=\"http://www.w3.org/2000/svg\" height=\"24px\"viewBox=\"0 0 24 24\"\n",
              "       width=\"24px\">\n",
              "    <path d=\"M0 0h24v24H0V0z\" fill=\"none\"/>\n",
              "    <path d=\"M18.56 5.44l.94 2.06.94-2.06 2.06-.94-2.06-.94-.94-2.06-.94 2.06-2.06.94zm-11 1L8.5 8.5l.94-2.06 2.06-.94-2.06-.94L8.5 2.5l-.94 2.06-2.06.94zm10 10l.94 2.06.94-2.06 2.06-.94-2.06-.94-.94-2.06-.94 2.06-2.06.94z\"/><path d=\"M17.41 7.96l-1.37-1.37c-.4-.4-.92-.59-1.43-.59-.52 0-1.04.2-1.43.59L10.3 9.45l-7.72 7.72c-.78.78-.78 2.05 0 2.83L4 21.41c.39.39.9.59 1.41.59.51 0 1.02-.2 1.41-.59l7.78-7.78 2.81-2.81c.8-.78.8-2.07 0-2.86zM5.41 20L4 18.59l7.72-7.72 1.47 1.35L5.41 20z\"/>\n",
              "  </svg>\n",
              "      </button>\n",
              "      \n",
              "  <style>\n",
              "    .colab-df-container {\n",
              "      display:flex;\n",
              "      flex-wrap:wrap;\n",
              "      gap: 12px;\n",
              "    }\n",
              "\n",
              "    .colab-df-convert {\n",
              "      background-color: #E8F0FE;\n",
              "      border: none;\n",
              "      border-radius: 50%;\n",
              "      cursor: pointer;\n",
              "      display: none;\n",
              "      fill: #1967D2;\n",
              "      height: 32px;\n",
              "      padding: 0 0 0 0;\n",
              "      width: 32px;\n",
              "    }\n",
              "\n",
              "    .colab-df-convert:hover {\n",
              "      background-color: #E2EBFA;\n",
              "      box-shadow: 0px 1px 2px rgba(60, 64, 67, 0.3), 0px 1px 3px 1px rgba(60, 64, 67, 0.15);\n",
              "      fill: #174EA6;\n",
              "    }\n",
              "\n",
              "    [theme=dark] .colab-df-convert {\n",
              "      background-color: #3B4455;\n",
              "      fill: #D2E3FC;\n",
              "    }\n",
              "\n",
              "    [theme=dark] .colab-df-convert:hover {\n",
              "      background-color: #434B5C;\n",
              "      box-shadow: 0px 1px 3px 1px rgba(0, 0, 0, 0.15);\n",
              "      filter: drop-shadow(0px 1px 2px rgba(0, 0, 0, 0.3));\n",
              "      fill: #FFFFFF;\n",
              "    }\n",
              "  </style>\n",
              "\n",
              "      <script>\n",
              "        const buttonEl =\n",
              "          document.querySelector('#df-d6315b98-b32d-418c-8392-bb2fa33c5acb button.colab-df-convert');\n",
              "        buttonEl.style.display =\n",
              "          google.colab.kernel.accessAllowed ? 'block' : 'none';\n",
              "\n",
              "        async function convertToInteractive(key) {\n",
              "          const element = document.querySelector('#df-d6315b98-b32d-418c-8392-bb2fa33c5acb');\n",
              "          const dataTable =\n",
              "            await google.colab.kernel.invokeFunction('convertToInteractive',\n",
              "                                                     [key], {});\n",
              "          if (!dataTable) return;\n",
              "\n",
              "          const docLinkHtml = 'Like what you see? Visit the ' +\n",
              "            '<a target=\"_blank\" href=https://colab.research.google.com/notebooks/data_table.ipynb>data table notebook</a>'\n",
              "            + ' to learn more about interactive tables.';\n",
              "          element.innerHTML = '';\n",
              "          dataTable['output_type'] = 'display_data';\n",
              "          await google.colab.output.renderOutput(dataTable, element);\n",
              "          const docLink = document.createElement('div');\n",
              "          docLink.innerHTML = docLinkHtml;\n",
              "          element.appendChild(docLink);\n",
              "        }\n",
              "      </script>\n",
              "    </div>\n",
              "  </div>\n",
              "  "
            ]
          },
          "metadata": {},
          "execution_count": 6
        }
      ]
    },
    {
      "cell_type": "markdown",
      "source": [
        "Data Cleaning"
      ],
      "metadata": {
        "id": "LmBQ9jdh5FT6"
      }
    },
    {
      "cell_type": "code",
      "source": [
        "display(dataset.head().style.hide_index())"
      ],
      "metadata": {
        "colab": {
          "base_uri": "https://localhost:8080/",
          "height": 206
        },
        "id": "ni5VXgZ0xfSm",
        "outputId": "7b19b71c-f1e4-4e51-ca1b-7896fa942cc2"
      },
      "execution_count": null,
      "outputs": [
        {
          "output_type": "display_data",
          "data": {
            "text/plain": [
              "<pandas.io.formats.style.Styler at 0x7ff25aff1610>"
            ],
            "text/html": [
              "<style type=\"text/css\">\n",
              "</style>\n",
              "<table id=\"T_edd2c_\" class=\"dataframe\">\n",
              "  <thead>\n",
              "    <tr>\n",
              "      <th class=\"col_heading level0 col0\" >Date</th>\n",
              "      <th class=\"col_heading level0 col1\" >Symbol</th>\n",
              "      <th class=\"col_heading level0 col2\" >Series</th>\n",
              "      <th class=\"col_heading level0 col3\" >Prev Close</th>\n",
              "      <th class=\"col_heading level0 col4\" >Open</th>\n",
              "      <th class=\"col_heading level0 col5\" >High</th>\n",
              "      <th class=\"col_heading level0 col6\" >Low</th>\n",
              "      <th class=\"col_heading level0 col7\" >Last</th>\n",
              "      <th class=\"col_heading level0 col8\" >Close</th>\n",
              "      <th class=\"col_heading level0 col9\" >VWAP</th>\n",
              "      <th class=\"col_heading level0 col10\" >Volume</th>\n",
              "      <th class=\"col_heading level0 col11\" >Turnover</th>\n",
              "      <th class=\"col_heading level0 col12\" >Trades</th>\n",
              "      <th class=\"col_heading level0 col13\" >Deliverable Volume</th>\n",
              "      <th class=\"col_heading level0 col14\" >%Deliverble</th>\n",
              "    </tr>\n",
              "  </thead>\n",
              "  <tbody>\n",
              "    <tr>\n",
              "      <td id=\"T_edd2c_row0_col0\" class=\"data row0 col0\" >2000-01-03</td>\n",
              "      <td id=\"T_edd2c_row0_col1\" class=\"data row0 col1\" >ICICIBANK</td>\n",
              "      <td id=\"T_edd2c_row0_col2\" class=\"data row0 col2\" >EQ</td>\n",
              "      <td id=\"T_edd2c_row0_col3\" class=\"data row0 col3\" >69.200000</td>\n",
              "      <td id=\"T_edd2c_row0_col4\" class=\"data row0 col4\" >74.350000</td>\n",
              "      <td id=\"T_edd2c_row0_col5\" class=\"data row0 col5\" >74.750000</td>\n",
              "      <td id=\"T_edd2c_row0_col6\" class=\"data row0 col6\" >71.400000</td>\n",
              "      <td id=\"T_edd2c_row0_col7\" class=\"data row0 col7\" >74.750000</td>\n",
              "      <td id=\"T_edd2c_row0_col8\" class=\"data row0 col8\" >74.750000</td>\n",
              "      <td id=\"T_edd2c_row0_col9\" class=\"data row0 col9\" >73.200000</td>\n",
              "      <td id=\"T_edd2c_row0_col10\" class=\"data row0 col10\" >286260</td>\n",
              "      <td id=\"T_edd2c_row0_col11\" class=\"data row0 col11\" >2095439040000.000000</td>\n",
              "      <td id=\"T_edd2c_row0_col12\" class=\"data row0 col12\" >nan</td>\n",
              "      <td id=\"T_edd2c_row0_col13\" class=\"data row0 col13\" >nan</td>\n",
              "      <td id=\"T_edd2c_row0_col14\" class=\"data row0 col14\" >nan</td>\n",
              "    </tr>\n",
              "    <tr>\n",
              "      <td id=\"T_edd2c_row1_col0\" class=\"data row1 col0\" >2000-01-04</td>\n",
              "      <td id=\"T_edd2c_row1_col1\" class=\"data row1 col1\" >ICICIBANK</td>\n",
              "      <td id=\"T_edd2c_row1_col2\" class=\"data row1 col2\" >EQ</td>\n",
              "      <td id=\"T_edd2c_row1_col3\" class=\"data row1 col3\" >74.750000</td>\n",
              "      <td id=\"T_edd2c_row1_col4\" class=\"data row1 col4\" >73.050000</td>\n",
              "      <td id=\"T_edd2c_row1_col5\" class=\"data row1 col5\" >78.500000</td>\n",
              "      <td id=\"T_edd2c_row1_col6\" class=\"data row1 col6\" >71.000000</td>\n",
              "      <td id=\"T_edd2c_row1_col7\" class=\"data row1 col7\" >73.250000</td>\n",
              "      <td id=\"T_edd2c_row1_col8\" class=\"data row1 col8\" >73.050000</td>\n",
              "      <td id=\"T_edd2c_row1_col9\" class=\"data row1 col9\" >73.380000</td>\n",
              "      <td id=\"T_edd2c_row1_col10\" class=\"data row1 col10\" >296264</td>\n",
              "      <td id=\"T_edd2c_row1_col11\" class=\"data row1 col11\" >2173892790000.000000</td>\n",
              "      <td id=\"T_edd2c_row1_col12\" class=\"data row1 col12\" >nan</td>\n",
              "      <td id=\"T_edd2c_row1_col13\" class=\"data row1 col13\" >nan</td>\n",
              "      <td id=\"T_edd2c_row1_col14\" class=\"data row1 col14\" >nan</td>\n",
              "    </tr>\n",
              "    <tr>\n",
              "      <td id=\"T_edd2c_row2_col0\" class=\"data row2 col0\" >2000-01-05</td>\n",
              "      <td id=\"T_edd2c_row2_col1\" class=\"data row2 col1\" >ICICIBANK</td>\n",
              "      <td id=\"T_edd2c_row2_col2\" class=\"data row2 col2\" >EQ</td>\n",
              "      <td id=\"T_edd2c_row2_col3\" class=\"data row2 col3\" >73.050000</td>\n",
              "      <td id=\"T_edd2c_row2_col4\" class=\"data row2 col4\" >70.000000</td>\n",
              "      <td id=\"T_edd2c_row2_col5\" class=\"data row2 col5\" >73.500000</td>\n",
              "      <td id=\"T_edd2c_row2_col6\" class=\"data row2 col6\" >67.500000</td>\n",
              "      <td id=\"T_edd2c_row2_col7\" class=\"data row2 col7\" >70.000000</td>\n",
              "      <td id=\"T_edd2c_row2_col8\" class=\"data row2 col8\" >69.500000</td>\n",
              "      <td id=\"T_edd2c_row2_col9\" class=\"data row2 col9\" >70.850000</td>\n",
              "      <td id=\"T_edd2c_row2_col10\" class=\"data row2 col10\" >227624</td>\n",
              "      <td id=\"T_edd2c_row2_col11\" class=\"data row2 col11\" >1612793995000.000000</td>\n",
              "      <td id=\"T_edd2c_row2_col12\" class=\"data row2 col12\" >nan</td>\n",
              "      <td id=\"T_edd2c_row2_col13\" class=\"data row2 col13\" >nan</td>\n",
              "      <td id=\"T_edd2c_row2_col14\" class=\"data row2 col14\" >nan</td>\n",
              "    </tr>\n",
              "    <tr>\n",
              "      <td id=\"T_edd2c_row3_col0\" class=\"data row3 col0\" >2000-01-06</td>\n",
              "      <td id=\"T_edd2c_row3_col1\" class=\"data row3 col1\" >ICICIBANK</td>\n",
              "      <td id=\"T_edd2c_row3_col2\" class=\"data row3 col2\" >EQ</td>\n",
              "      <td id=\"T_edd2c_row3_col3\" class=\"data row3 col3\" >69.500000</td>\n",
              "      <td id=\"T_edd2c_row3_col4\" class=\"data row3 col4\" >71.000000</td>\n",
              "      <td id=\"T_edd2c_row3_col5\" class=\"data row3 col5\" >74.000000</td>\n",
              "      <td id=\"T_edd2c_row3_col6\" class=\"data row3 col6\" >69.550000</td>\n",
              "      <td id=\"T_edd2c_row3_col7\" class=\"data row3 col7\" >69.750000</td>\n",
              "      <td id=\"T_edd2c_row3_col8\" class=\"data row3 col8\" >70.050000</td>\n",
              "      <td id=\"T_edd2c_row3_col9\" class=\"data row3 col9\" >72.040000</td>\n",
              "      <td id=\"T_edd2c_row3_col10\" class=\"data row3 col10\" >275149</td>\n",
              "      <td id=\"T_edd2c_row3_col11\" class=\"data row3 col11\" >1982120640000.000000</td>\n",
              "      <td id=\"T_edd2c_row3_col12\" class=\"data row3 col12\" >nan</td>\n",
              "      <td id=\"T_edd2c_row3_col13\" class=\"data row3 col13\" >nan</td>\n",
              "      <td id=\"T_edd2c_row3_col14\" class=\"data row3 col14\" >nan</td>\n",
              "    </tr>\n",
              "    <tr>\n",
              "      <td id=\"T_edd2c_row4_col0\" class=\"data row4 col0\" >2000-01-07</td>\n",
              "      <td id=\"T_edd2c_row4_col1\" class=\"data row4 col1\" >ICICIBANK</td>\n",
              "      <td id=\"T_edd2c_row4_col2\" class=\"data row4 col2\" >EQ</td>\n",
              "      <td id=\"T_edd2c_row4_col3\" class=\"data row4 col3\" >70.050000</td>\n",
              "      <td id=\"T_edd2c_row4_col4\" class=\"data row4 col4\" >69.000000</td>\n",
              "      <td id=\"T_edd2c_row4_col5\" class=\"data row4 col5\" >72.500000</td>\n",
              "      <td id=\"T_edd2c_row4_col6\" class=\"data row4 col6\" >66.000000</td>\n",
              "      <td id=\"T_edd2c_row4_col7\" class=\"data row4 col7\" >67.000000</td>\n",
              "      <td id=\"T_edd2c_row4_col8\" class=\"data row4 col8\" >67.400000</td>\n",
              "      <td id=\"T_edd2c_row4_col9\" class=\"data row4 col9\" >68.720000</td>\n",
              "      <td id=\"T_edd2c_row4_col10\" class=\"data row4 col10\" >138809</td>\n",
              "      <td id=\"T_edd2c_row4_col11\" class=\"data row4 col11\" >953888205000.000000</td>\n",
              "      <td id=\"T_edd2c_row4_col12\" class=\"data row4 col12\" >nan</td>\n",
              "      <td id=\"T_edd2c_row4_col13\" class=\"data row4 col13\" >nan</td>\n",
              "      <td id=\"T_edd2c_row4_col14\" class=\"data row4 col14\" >nan</td>\n",
              "    </tr>\n",
              "  </tbody>\n",
              "</table>\n"
            ]
          },
          "metadata": {}
        }
      ]
    },
    {
      "cell_type": "code",
      "source": [
        "dataset.drop(dataset.columns.difference(['Date', 'Open', 'Close']), 1, inplace=True)"
      ],
      "metadata": {
        "id": "SJQBLCB0xfWw"
      },
      "execution_count": null,
      "outputs": []
    },
    {
      "cell_type": "code",
      "source": [
        "display(dataset.head().style.hide_index())"
      ],
      "metadata": {
        "colab": {
          "base_uri": "https://localhost:8080/",
          "height": 206
        },
        "id": "CPGRXLIxxfml",
        "outputId": "6703bc84-7dc8-43e5-ff37-6436276d1fc2"
      },
      "execution_count": null,
      "outputs": [
        {
          "output_type": "display_data",
          "data": {
            "text/plain": [
              "<pandas.io.formats.style.Styler at 0x7ff25ac649d0>"
            ],
            "text/html": [
              "<style type=\"text/css\">\n",
              "</style>\n",
              "<table id=\"T_bda54_\" class=\"dataframe\">\n",
              "  <thead>\n",
              "    <tr>\n",
              "      <th class=\"col_heading level0 col0\" >Date</th>\n",
              "      <th class=\"col_heading level0 col1\" >Open</th>\n",
              "      <th class=\"col_heading level0 col2\" >Close</th>\n",
              "    </tr>\n",
              "  </thead>\n",
              "  <tbody>\n",
              "    <tr>\n",
              "      <td id=\"T_bda54_row0_col0\" class=\"data row0 col0\" >2000-01-03</td>\n",
              "      <td id=\"T_bda54_row0_col1\" class=\"data row0 col1\" >74.350000</td>\n",
              "      <td id=\"T_bda54_row0_col2\" class=\"data row0 col2\" >74.750000</td>\n",
              "    </tr>\n",
              "    <tr>\n",
              "      <td id=\"T_bda54_row1_col0\" class=\"data row1 col0\" >2000-01-04</td>\n",
              "      <td id=\"T_bda54_row1_col1\" class=\"data row1 col1\" >73.050000</td>\n",
              "      <td id=\"T_bda54_row1_col2\" class=\"data row1 col2\" >73.050000</td>\n",
              "    </tr>\n",
              "    <tr>\n",
              "      <td id=\"T_bda54_row2_col0\" class=\"data row2 col0\" >2000-01-05</td>\n",
              "      <td id=\"T_bda54_row2_col1\" class=\"data row2 col1\" >70.000000</td>\n",
              "      <td id=\"T_bda54_row2_col2\" class=\"data row2 col2\" >69.500000</td>\n",
              "    </tr>\n",
              "    <tr>\n",
              "      <td id=\"T_bda54_row3_col0\" class=\"data row3 col0\" >2000-01-06</td>\n",
              "      <td id=\"T_bda54_row3_col1\" class=\"data row3 col1\" >71.000000</td>\n",
              "      <td id=\"T_bda54_row3_col2\" class=\"data row3 col2\" >70.050000</td>\n",
              "    </tr>\n",
              "    <tr>\n",
              "      <td id=\"T_bda54_row4_col0\" class=\"data row4 col0\" >2000-01-07</td>\n",
              "      <td id=\"T_bda54_row4_col1\" class=\"data row4 col1\" >69.000000</td>\n",
              "      <td id=\"T_bda54_row4_col2\" class=\"data row4 col2\" >67.400000</td>\n",
              "    </tr>\n",
              "  </tbody>\n",
              "</table>\n"
            ]
          },
          "metadata": {}
        }
      ]
    },
    {
      "cell_type": "markdown",
      "source": [
        "Data Visualization"
      ],
      "metadata": {
        "id": "hkBuvhSf5NYs"
      }
    },
    {
      "cell_type": "code",
      "source": [
        "fig, ax = plt.subplots(figsize=(20, 10))\n",
        "plot1 = sns.scatterplot(data=dataset.head(100), x=\"Open\", y=\"Close\", ax=ax)\n",
        "plot1.set(title='Open v/s Close')\n",
        "plt.show()"
      ],
      "metadata": {
        "colab": {
          "base_uri": "https://localhost:8080/",
          "height": 496
        },
        "id": "arc6TZ7nxfow",
        "outputId": "4f6e6676-e6fd-400e-feab-61ae827e2baf"
      },
      "execution_count": null,
      "outputs": [
        {
          "output_type": "display_data",
          "data": {
            "text/plain": [
              "<Figure size 1440x720 with 1 Axes>"
            ],
            "image/png": "[encoded data removed]"
          },
          "metadata": {}
        }
      ]
    },
    {
      "cell_type": "code",
      "source": [
        "dataset.hist(bins=50, figsize=(20, 6))\n",
        "plt.show()"
      ],
      "metadata": {
        "colab": {
          "base_uri": "https://localhost:8080/",
          "height": 327
        },
        "id": "tj42_NN2xfsl",
        "outputId": "598a254a-8b01-4849-f39c-d94f0de99501"
      },
      "execution_count": null,
      "outputs": [
        {
          "output_type": "display_data",
          "data": {
            "text/plain": [
              "<Figure size 1440x432 with 12 Axes>"
            ],
            "image/png": "[encoded data removed]"
          },
          "metadata": {}
        }
      ]
    },
    {
      "cell_type": "markdown",
      "source": [
        "Import Models"
      ],
      "metadata": {
        "id": "O2IqGbmr7HgJ"
      }
    },
    {
      "cell_type": "code",
      "source": [
        "from sklearn.linear_model import LinearRegression\n",
        "from sklearn.svm import SVR\n",
        "from sklearn.tree import DecisionTreeRegressor\n",
        "from sklearn.ensemble import RandomForestRegressor"
      ],
      "metadata": {
        "id": "zbQ5tLAexgDV"
      },
      "execution_count": null,
      "outputs": []
    },
    {
      "cell_type": "markdown",
      "source": [
        "Build, predict and evaluate models\n",
        "\n",
        "Simple Linear Regression"
      ],
      "metadata": {
        "id": "d_Adzeoj7Nkn"
      }
    },
    {
      "cell_type": "code",
      "source": [
        "X = dataset['Open'].values\n",
        "y = dataset['Close'].values\n",
        "X_train, X_test, y_train, y_test = train_test_split(X, y, train_size=0.7, test_size=0.3)\n",
        "model1 = LinearRegression()\n",
        "build1 = model1.fit(X_train.reshape(-1, 1), y_train)\n",
        "predict1 = model1.predict(X_test.reshape(-1, 1))\n",
        "print(\"Co-efficient: \", model1.coef_)\n",
        "print(\"\\nIntercept: \", model1.intercept_)"
      ],
      "metadata": {
        "colab": {
          "base_uri": "https://localhost:8080/"
        },
        "id": "urZa8AVKxgFZ",
        "outputId": "2a41cd58-1a61-4bbf-e548-4bcc2afa22db"
      },
      "execution_count": null,
      "outputs": [
        {
          "output_type": "stream",
          "name": "stdout",
          "text": [
            "Co-efficient:  [0.999621]\n",
            "\n",
            "Intercept:  -0.26903874861181976\n"
          ]
        }
      ]
    },
    {
      "cell_type": "code",
      "source": [
        "df1 = pd.DataFrame(list(zip(y_test, predict1)), columns=[\"Actual Values\", \"Predicted Values\"])\n",
        "df1.head().style.hide_index()"
      ],
      "metadata": {
        "colab": {
          "base_uri": "https://localhost:8080/",
          "height": 206
        },
        "id": "ZWEn9tQhxgJg",
        "outputId": "2fe9eac2-7660-4032-840c-516b94c86421"
      },
      "execution_count": null,
      "outputs": [
        {
          "output_type": "execute_result",
          "data": {
            "text/plain": [
              "<pandas.io.formats.style.Styler at 0x7ff71a3efa50>"
            ],
            "text/html": [
              "<style type=\"text/css\">\n",
              "</style>\n",
              "<table id=\"T_100d8_\" class=\"dataframe\">\n",
              "  <thead>\n",
              "    <tr>\n",
              "      <th class=\"col_heading level0 col0\" >Actual Values</th>\n",
              "      <th class=\"col_heading level0 col1\" >Predicted Values</th>\n",
              "    </tr>\n",
              "  </thead>\n",
              "  <tbody>\n",
              "    <tr>\n",
              "      <td id=\"T_100d8_row0_col0\" class=\"data row0 col0\" >1040.400000</td>\n",
              "      <td id=\"T_100d8_row0_col1\" class=\"data row0 col1\" >1091.317096</td>\n",
              "    </tr>\n",
              "    <tr>\n",
              "      <td id=\"T_100d8_row1_col0\" class=\"data row1 col0\" >252.350000</td>\n",
              "      <td id=\"T_100d8_row1_col1\" class=\"data row1 col1\" >257.633180</td>\n",
              "    </tr>\n",
              "    <tr>\n",
              "      <td id=\"T_100d8_row2_col0\" class=\"data row2 col0\" >852.200000</td>\n",
              "      <td id=\"T_100d8_row2_col1\" class=\"data row2 col1\" >876.398580</td>\n",
              "    </tr>\n",
              "    <tr>\n",
              "      <td id=\"T_100d8_row3_col0\" class=\"data row3 col0\" >147.250000</td>\n",
              "      <td id=\"T_100d8_row3_col1\" class=\"data row3 col1\" >141.677144</td>\n",
              "    </tr>\n",
              "    <tr>\n",
              "      <td id=\"T_100d8_row4_col0\" class=\"data row4 col0\" >366.500000</td>\n",
              "      <td id=\"T_100d8_row4_col1\" class=\"data row4 col1\" >362.593385</td>\n",
              "    </tr>\n",
              "  </tbody>\n",
              "</table>\n"
            ]
          },
          "metadata": {},
          "execution_count": 18
        }
      ]
    },
    {
      "cell_type": "code",
      "source": [
        "df1.head(50).plot(kind=\"bar\", figsize=(20, 10), title='Simple Linear Regression')\n",
        "plt.show()"
      ],
      "metadata": {
        "colab": {
          "base_uri": "https://localhost:8080/",
          "height": 630
        },
        "id": "mZNDP0OyzGJL",
        "outputId": "f2b2e249-2571-4845-b072-7585a8bb800e"
      },
      "execution_count": null,
      "outputs": [
        {
          "output_type": "display_data",
          "data": {
            "text/plain": [
              "<Figure size 1440x720 with 1 Axes>"
            ],
            "image/png": "[encoded data removed]"
          },
          "metadata": {}
        }
      ]
    },
    {
      "cell_type": "code",
      "source": [
        "accuracy1 = r2_score(y_test, predict1)\n",
        "print(\"Accuracy of Simple Linear Regression:\", accuracy1)"
      ],
      "metadata": {
        "colab": {
          "base_uri": "https://localhost:8080/"
        },
        "id": "MgfCKy2lzVJo",
        "outputId": "d70b0b04-a244-4186-e85c-a781cdb2270e"
      },
      "execution_count": null,
      "outputs": [
        {
          "output_type": "stream",
          "name": "stdout",
          "text": [
            "Accuracy of Simple Linear Regression: 0.9983393184643011\n"
          ]
        }
      ]
    },
    {
      "cell_type": "markdown",
      "source": [
        "Support Vector Regression"
      ],
      "metadata": {
        "id": "1vPmMs7n7cjk"
      }
    },
    {
      "cell_type": "code",
      "source": [
        "model2 = SVR(kernel=\"rbf\", gamma = 0.01, C=100)\n",
        "build2 = model2.fit(X_train.reshape(-1, 1), y_train)\n",
        "predict2 = model2.predict(X_test.reshape(-1, 1))\n",
        "df2 = pd.DataFrame(list(zip(y_test, predict2)), columns=[\"Actual Values\", \"Predicted Values\"])"
      ],
      "metadata": {
        "id": "XjZW2S83zeY8"
      },
      "execution_count": null,
      "outputs": []
    },
    {
      "cell_type": "code",
      "source": [
        "df2.head().style.hide_index()"
      ],
      "metadata": {
        "colab": {
          "base_uri": "https://localhost:8080/",
          "height": 206
        },
        "id": "HjozeWQTzjp8",
        "outputId": "3d3e4fe2-2ed4-486b-a753-20e48ea716af"
      },
      "execution_count": null,
      "outputs": [
        {
          "output_type": "execute_result",
          "data": {
            "text/plain": [
              "<pandas.io.formats.style.Styler at 0x7ff718421290>"
            ],
            "text/html": [
              "<style type=\"text/css\">\n",
              "</style>\n",
              "<table id=\"T_856c2_\" class=\"dataframe\">\n",
              "  <thead>\n",
              "    <tr>\n",
              "      <th class=\"col_heading level0 col0\" >Actual Values</th>\n",
              "      <th class=\"col_heading level0 col1\" >Predicted Values</th>\n",
              "    </tr>\n",
              "  </thead>\n",
              "  <tbody>\n",
              "    <tr>\n",
              "      <td id=\"T_856c2_row0_col0\" class=\"data row0 col0\" >1040.400000</td>\n",
              "      <td id=\"T_856c2_row0_col1\" class=\"data row0 col1\" >1087.394291</td>\n",
              "    </tr>\n",
              "    <tr>\n",
              "      <td id=\"T_856c2_row1_col0\" class=\"data row1 col0\" >252.350000</td>\n",
              "      <td id=\"T_856c2_row1_col1\" class=\"data row1 col1\" >259.507078</td>\n",
              "    </tr>\n",
              "    <tr>\n",
              "      <td id=\"T_856c2_row2_col0\" class=\"data row2 col0\" >852.200000</td>\n",
              "      <td id=\"T_856c2_row2_col1\" class=\"data row2 col1\" >877.715893</td>\n",
              "    </tr>\n",
              "    <tr>\n",
              "      <td id=\"T_856c2_row3_col0\" class=\"data row3 col0\" >147.250000</td>\n",
              "      <td id=\"T_856c2_row3_col1\" class=\"data row3 col1\" >141.350482</td>\n",
              "    </tr>\n",
              "    <tr>\n",
              "      <td id=\"T_856c2_row4_col0\" class=\"data row4 col0\" >366.500000</td>\n",
              "      <td id=\"T_856c2_row4_col1\" class=\"data row4 col1\" >361.980285</td>\n",
              "    </tr>\n",
              "  </tbody>\n",
              "</table>\n"
            ]
          },
          "metadata": {},
          "execution_count": 22
        }
      ]
    },
    {
      "cell_type": "code",
      "source": [
        "df2.head(50).plot(kind=\"bar\", figsize=(20, 10), title='Support Vector Regression')\n",
        "plt.show()"
      ],
      "metadata": {
        "colab": {
          "base_uri": "https://localhost:8080/",
          "height": 490
        },
        "id": "OUIOKJHDzlui",
        "outputId": "f640bc43-cf10-4257-ebca-f4a2e4445e75"
      },
      "execution_count": null,
      "outputs": [
        {
          "output_type": "display_data",
          "data": {
            "text/plain": [
              "<Figure size 1440x720 with 1 Axes>"
            ],
            "image/png": "[encoded data removed]"
          },
          "metadata": {}
        }
      ]
    },
    {
      "cell_type": "code",
      "source": [
        "accuracy2 = r2_score(y_test, predict2)\n",
        "print(\"Accuracy of Support Vector Regression:\", accuracy2)"
      ],
      "metadata": {
        "colab": {
          "base_uri": "https://localhost:8080/"
        },
        "id": "Hof5xxHtzvRK",
        "outputId": "de7282b7-7ec2-4174-e97b-f2f44db6db3d"
      },
      "execution_count": null,
      "outputs": [
        {
          "output_type": "stream",
          "name": "stdout",
          "text": [
            "Accuracy of Support Vector Regression: 0.9758265366335618\n"
          ]
        }
      ]
    },
    {
      "cell_type": "markdown",
      "source": [
        "Decision Tree Regression"
      ],
      "metadata": {
        "id": "mjWg10gV7kcQ"
      }
    },
    {
      "cell_type": "code",
      "source": [
        "model3 = DecisionTreeRegressor()\n",
        "build3 = model3.fit(X_train.reshape(-1, 1), y_train)\n",
        "predict3 = model3.predict(X_test.reshape(-1, 1))\n",
        "df3 = pd.DataFrame(list(zip(y_test, predict3)), columns=[\"Actual Values\", \"Predicted Values\"])\n",
        "df3.head().style.hide_index()"
      ],
      "metadata": {
        "colab": {
          "base_uri": "https://localhost:8080/",
          "height": 206
        },
        "id": "JZ3tA4e3z3XP",
        "outputId": "77145ad3-c406-435e-a55c-efb05ed0a984"
      },
      "execution_count": null,
      "outputs": [
        {
          "output_type": "execute_result",
          "data": {
            "text/plain": [
              "<pandas.io.formats.style.Styler at 0x7ff71a3dab90>"
            ],
            "text/html": [
              "<style type=\"text/css\">\n",
              "</style>\n",
              "<table id=\"T_fe926_\" class=\"dataframe\">\n",
              "  <thead>\n",
              "    <tr>\n",
              "      <th class=\"col_heading level0 col0\" >Actual Values</th>\n",
              "      <th class=\"col_heading level0 col1\" >Predicted Values</th>\n",
              "    </tr>\n",
              "  </thead>\n",
              "  <tbody>\n",
              "    <tr>\n",
              "      <td id=\"T_fe926_row0_col0\" class=\"data row0 col0\" >1040.400000</td>\n",
              "      <td id=\"T_fe926_row0_col1\" class=\"data row0 col1\" >1075.450000</td>\n",
              "    </tr>\n",
              "    <tr>\n",
              "      <td id=\"T_fe926_row1_col0\" class=\"data row1 col0\" >252.350000</td>\n",
              "      <td id=\"T_fe926_row1_col1\" class=\"data row1 col1\" >263.200000</td>\n",
              "    </tr>\n",
              "    <tr>\n",
              "      <td id=\"T_fe926_row2_col0\" class=\"data row2 col0\" >852.200000</td>\n",
              "      <td id=\"T_fe926_row2_col1\" class=\"data row2 col1\" >881.816667</td>\n",
              "    </tr>\n",
              "    <tr>\n",
              "      <td id=\"T_fe926_row3_col0\" class=\"data row3 col0\" >147.250000</td>\n",
              "      <td id=\"T_fe926_row3_col1\" class=\"data row3 col1\" >139.300000</td>\n",
              "    </tr>\n",
              "    <tr>\n",
              "      <td id=\"T_fe926_row4_col0\" class=\"data row4 col0\" >366.500000</td>\n",
              "      <td id=\"T_fe926_row4_col1\" class=\"data row4 col1\" >365.712500</td>\n",
              "    </tr>\n",
              "  </tbody>\n",
              "</table>\n"
            ]
          },
          "metadata": {},
          "execution_count": 25
        }
      ]
    },
    {
      "cell_type": "code",
      "source": [
        "df3.head(50).plot(kind=\"bar\", figsize=(20, 10), title='Decision Tree Regression')\n",
        "plt.show()"
      ],
      "metadata": {
        "colab": {
          "base_uri": "https://localhost:8080/",
          "height": 490
        },
        "id": "JQFslE450Ao4",
        "outputId": "03e1e785-5fca-4018-a435-1cc91dc63c85"
      },
      "execution_count": null,
      "outputs": [
        {
          "output_type": "display_data",
          "data": {
            "text/plain": [
              "<Figure size 1440x720 with 1 Axes>"
            ],
            "image/png": "[encoded data removed]"
          },
          "metadata": {}
        }
      ]
    },
    {
      "cell_type": "code",
      "source": [
        "accuracy3 = r2_score(y_test, predict3)\n",
        "print(\"Accuracy of Decision Tree Regression:\", accuracy3)"
      ],
      "metadata": {
        "colab": {
          "base_uri": "https://localhost:8080/"
        },
        "id": "XVyffNTn0DFI",
        "outputId": "7ce1df64-2f72-4983-fa85-0af4a99108c8"
      },
      "execution_count": null,
      "outputs": [
        {
          "output_type": "stream",
          "name": "stdout",
          "text": [
            "Accuracy of Decision Tree Regression: 0.997145163138593\n"
          ]
        }
      ]
    },
    {
      "cell_type": "markdown",
      "source": [
        "Random Forest Regression"
      ],
      "metadata": {
        "id": "GXkyu-Im7rWe"
      }
    },
    {
      "cell_type": "code",
      "source": [
        "model4 = RandomForestRegressor(n_estimators=100)\n",
        "build4 = model4.fit(X_train.reshape(-1, 1), y_train)\n",
        "predict4 = model4.predict(X_test.reshape(-1, 1))\n",
        "df4 = pd.DataFrame(list(zip(y_test, predict4)), columns=[\"Actual Values\", \"Predicted Values\"])\n",
        "df4.head().style.hide_index()"
      ],
      "metadata": {
        "colab": {
          "base_uri": "https://localhost:8080/",
          "height": 206
        },
        "id": "RMbUcHUC0IGr",
        "outputId": "3134ea39-0866-41e0-fbe0-b75a20051234"
      },
      "execution_count": null,
      "outputs": [
        {
          "output_type": "execute_result",
          "data": {
            "text/plain": [
              "<pandas.io.formats.style.Styler at 0x7ff71829efd0>"
            ],
            "text/html": [
              "<style type=\"text/css\">\n",
              "</style>\n",
              "<table id=\"T_d5704_\" class=\"dataframe\">\n",
              "  <thead>\n",
              "    <tr>\n",
              "      <th class=\"col_heading level0 col0\" >Actual Values</th>\n",
              "      <th class=\"col_heading level0 col1\" >Predicted Values</th>\n",
              "    </tr>\n",
              "  </thead>\n",
              "  <tbody>\n",
              "    <tr>\n",
              "      <td id=\"T_d5704_row0_col0\" class=\"data row0 col0\" >1040.400000</td>\n",
              "      <td id=\"T_d5704_row0_col1\" class=\"data row0 col1\" >1082.426333</td>\n",
              "    </tr>\n",
              "    <tr>\n",
              "      <td id=\"T_d5704_row1_col0\" class=\"data row1 col0\" >252.350000</td>\n",
              "      <td id=\"T_d5704_row1_col1\" class=\"data row1 col1\" >263.069636</td>\n",
              "    </tr>\n",
              "    <tr>\n",
              "      <td id=\"T_d5704_row2_col0\" class=\"data row2 col0\" >852.200000</td>\n",
              "      <td id=\"T_d5704_row2_col1\" class=\"data row2 col1\" >882.101087</td>\n",
              "    </tr>\n",
              "    <tr>\n",
              "      <td id=\"T_d5704_row3_col0\" class=\"data row3 col0\" >147.250000</td>\n",
              "      <td id=\"T_d5704_row3_col1\" class=\"data row3 col1\" >139.470960</td>\n",
              "    </tr>\n",
              "    <tr>\n",
              "      <td id=\"T_d5704_row4_col0\" class=\"data row4 col0\" >366.500000</td>\n",
              "      <td id=\"T_d5704_row4_col1\" class=\"data row4 col1\" >365.824175</td>\n",
              "    </tr>\n",
              "  </tbody>\n",
              "</table>\n"
            ]
          },
          "metadata": {},
          "execution_count": 28
        }
      ]
    },
    {
      "cell_type": "code",
      "source": [
        "df4.head(50).plot(kind=\"bar\", figsize=(20, 10), title='Random Forest Regression')\n",
        "plt.show()"
      ],
      "metadata": {
        "colab": {
          "base_uri": "https://localhost:8080/",
          "height": 490
        },
        "id": "WQFgKDWU0VA6",
        "outputId": "80a868ed-9f5c-4e81-eb87-b96d03f73c4f"
      },
      "execution_count": null,
      "outputs": [
        {
          "output_type": "display_data",
          "data": {
            "text/plain": [
              "<Figure size 1440x720 with 1 Axes>"
            ],
            "image/png": "[encoded data removed]"
          },
          "metadata": {}
        }
      ]
    },
    {
      "cell_type": "code",
      "source": [
        "accuracy4 = r2_score(y_test, predict4)\n",
        "print(\"Accuracy of Random Forest Regression:\", accuracy4)"
      ],
      "metadata": {
        "colab": {
          "base_uri": "https://localhost:8080/"
        },
        "id": "8TGClw_a0ZjQ",
        "outputId": "2a541df6-869a-40e3-897f-99c7e8583778"
      },
      "execution_count": null,
      "outputs": [
        {
          "output_type": "stream",
          "name": "stdout",
          "text": [
            "Accuracy of Random Forest Regression: 0.9977154778792497\n"
          ]
        }
      ]
    },
    {
      "cell_type": "markdown",
      "source": [
        "Visualize the results"
      ],
      "metadata": {
        "id": "mJkK2ta3CsI5"
      }
    },
    {
      "cell_type": "code",
      "source": [
        "dict1 = {\n",
        "    \"Model\": [\"Simple Linear Regression\", \"Support Vector Regression\", \"Decision Tree Regression\", \"Random Forest Regression\"],\n",
        "    \"Accuracy\": np.array([accuracy1, accuracy2, accuracy3, accuracy4])\n",
        "}\n",
        "df = pd.DataFrame(dict1)\n",
        "display(df.style.hide_index())"
      ],
      "metadata": {
        "colab": {
          "base_uri": "https://localhost:8080/",
          "height": 175
        },
        "id": "GD45v-ss0e3l",
        "outputId": "8f386b2b-3bee-4a57-a5ac-3d36a0973ccc"
      },
      "execution_count": null,
      "outputs": [
        {
          "output_type": "display_data",
          "data": {
            "text/plain": [
              "<pandas.io.formats.style.Styler at 0x7ff719841b10>"
            ],
            "text/html": [
              "<style type=\"text/css\">\n",
              "</style>\n",
              "<table id=\"T_cf46d_\" class=\"dataframe\">\n",
              "  <thead>\n",
              "    <tr>\n",
              "      <th class=\"col_heading level0 col0\" >Model</th>\n",
              "      <th class=\"col_heading level0 col1\" >Accuracy</th>\n",
              "    </tr>\n",
              "  </thead>\n",
              "  <tbody>\n",
              "    <tr>\n",
              "      <td id=\"T_cf46d_row0_col0\" class=\"data row0 col0\" >Simple Linear Regression</td>\n",
              "      <td id=\"T_cf46d_row0_col1\" class=\"data row0 col1\" >0.998339</td>\n",
              "    </tr>\n",
              "    <tr>\n",
              "      <td id=\"T_cf46d_row1_col0\" class=\"data row1 col0\" >Support Vector Regression</td>\n",
              "      <td id=\"T_cf46d_row1_col1\" class=\"data row1 col1\" >0.975827</td>\n",
              "    </tr>\n",
              "    <tr>\n",
              "      <td id=\"T_cf46d_row2_col0\" class=\"data row2 col0\" >Decision Tree Regression</td>\n",
              "      <td id=\"T_cf46d_row2_col1\" class=\"data row2 col1\" >0.997145</td>\n",
              "    </tr>\n",
              "    <tr>\n",
              "      <td id=\"T_cf46d_row3_col0\" class=\"data row3 col0\" >Random Forest Regression</td>\n",
              "      <td id=\"T_cf46d_row3_col1\" class=\"data row3 col1\" >0.997715</td>\n",
              "    </tr>\n",
              "  </tbody>\n",
              "</table>\n"
            ]
          },
          "metadata": {}
        }
      ]
    },
    {
      "cell_type": "markdown",
      "source": [
        "Find out the closing price of the company of that day"
      ],
      "metadata": {
        "id": "o15aUGyuC1T4"
      }
    },
    {
      "cell_type": "code",
      "source": [
        "new_dict = {\n",
        "    'Date': np.array(['11-May-22']),\n",
        "    'Open':np.array([718.00])}\n",
        "\n",
        "future_stock_value = pd.DataFrame(new_dict)\n",
        "display(future_stock_value.style.hide_index())"
      ],
      "metadata": {
        "colab": {
          "base_uri": "https://localhost:8080/",
          "height": 81
        },
        "id": "zg1p0ntz3tCB",
        "outputId": "3bcea625-c3f3-4167-d742-ffa5f0d2751b"
      },
      "execution_count": null,
      "outputs": [
        {
          "output_type": "display_data",
          "data": {
            "text/plain": [
              "<pandas.io.formats.style.Styler at 0x7ff71994be10>"
            ],
            "text/html": [
              "<style type=\"text/css\">\n",
              "</style>\n",
              "<table id=\"T_57761_\" class=\"dataframe\">\n",
              "  <thead>\n",
              "    <tr>\n",
              "      <th class=\"col_heading level0 col0\" >Date</th>\n",
              "      <th class=\"col_heading level0 col1\" >Open</th>\n",
              "    </tr>\n",
              "  </thead>\n",
              "  <tbody>\n",
              "    <tr>\n",
              "      <td id=\"T_57761_row0_col0\" class=\"data row0 col0\" >11-May-22</td>\n",
              "      <td id=\"T_57761_row0_col1\" class=\"data row0 col1\" >718.000000</td>\n",
              "    </tr>\n",
              "  </tbody>\n",
              "</table>\n"
            ]
          },
          "metadata": {}
        }
      ]
    },
    {
      "cell_type": "markdown",
      "source": [
        "Predict using the highest accuracy model"
      ],
      "metadata": {
        "id": "wpR0m5uIC3BA"
      }
    },
    {
      "cell_type": "code",
      "source": [
        "models = np.array(df['Model'])\n",
        "accuracy = np.array(df['Accuracy'])\n",
        "highest_accuracy=0.0\n",
        "best_model=\"\"\n",
        "for i in range(len(accuracy)) :\n",
        "    if accuracy[i] >= highest_accuracy :\n",
        "        highest_accuracy=accuracy[i]\n",
        "        best_model=models[i]\n",
        "slr, svr, dtr, rfr = [], [], [], []\n",
        "\n",
        "if best_model == models[0] :\n",
        "    future_stock_value['Predicted'] = model1.predict(future_stock_value.Open.values.reshape(-1, 1))\n",
        "elif best_model == models[1] :\n",
        "    future_stock_value['Predicted'] = model2.predict(future_stock_value.Open.values.reshape(-1, 1))\n",
        "elif best_model == models[2] :\n",
        "    future_stock_value['Predicted'] = model3.predict(future_stock_value.Open.values.reshape(-1, 1))\n",
        "elif best_model == models[3] :\n",
        "    future_stock_value['Predicted'] = model4.predict(future_stock_value.Open.values.reshape(-1, 1))"
      ],
      "metadata": {
        "id": "gq8iqTI34OP7"
      },
      "execution_count": null,
      "outputs": []
    },
    {
      "cell_type": "code",
      "source": [
        "display(future_stock_value.style.hide_index())"
      ],
      "metadata": {
        "colab": {
          "base_uri": "https://localhost:8080/",
          "height": 81
        },
        "id": "GIJGE7Rw4awZ",
        "outputId": "75664fb9-c75c-4a13-eac5-b3d7d98eed6a"
      },
      "execution_count": null,
      "outputs": [
        {
          "output_type": "display_data",
          "data": {
            "text/plain": [
              "<pandas.io.formats.style.Styler at 0x7ff719d4fad0>"
            ],
            "text/html": [
              "<style type=\"text/css\">\n",
              "</style>\n",
              "<table id=\"T_aa5ca_\" class=\"dataframe\">\n",
              "  <thead>\n",
              "    <tr>\n",
              "      <th class=\"col_heading level0 col0\" >Date</th>\n",
              "      <th class=\"col_heading level0 col1\" >Open</th>\n",
              "      <th class=\"col_heading level0 col2\" >Predicted</th>\n",
              "    </tr>\n",
              "  </thead>\n",
              "  <tbody>\n",
              "    <tr>\n",
              "      <td id=\"T_aa5ca_row0_col0\" class=\"data row0 col0\" >11-May-22</td>\n",
              "      <td id=\"T_aa5ca_row0_col1\" class=\"data row0 col1\" >718.000000</td>\n",
              "      <td id=\"T_aa5ca_row0_col2\" class=\"data row0 col2\" >717.458841</td>\n",
              "    </tr>\n",
              "  </tbody>\n",
              "</table>\n"
            ]
          },
          "metadata": {}
        }
      ]
    }
  ]
}